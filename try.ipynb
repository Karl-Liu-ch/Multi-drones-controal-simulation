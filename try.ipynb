{
 "cells": [
  {
   "cell_type": "code",
   "execution_count": 17,
   "metadata": {},
   "outputs": [
    {
     "name": "stdout",
     "output_type": "stream",
     "text": [
      "[0 1 2 3 4 5 6 7 8 0]\n"
     ]
    }
   ],
   "source": [
    "import numpy as np\n",
    "t = 0\n",
    "position = np.array([0,1,2])\n",
    "v = np.array([3,4,5])\n",
    "a = np.array([6,7,8])\n",
    "state = np.append(position, np.append(v, a))\n",
    "state = np.insert(state, 9, t)\n",
    "print(state)"
   ]
  }
 ],
 "metadata": {
  "kernelspec": {
   "display_name": "Python 3.8.13 ('pytorch')",
   "language": "python",
   "name": "python3"
  },
  "language_info": {
   "codemirror_mode": {
    "name": "ipython",
    "version": 3
   },
   "file_extension": ".py",
   "mimetype": "text/x-python",
   "name": "python",
   "nbconvert_exporter": "python",
   "pygments_lexer": "ipython3",
   "version": "3.8.13"
  },
  "orig_nbformat": 4,
  "vscode": {
   "interpreter": {
    "hash": "31ced3ac605773e5b09b56fcdb9cfe040b99f30c853ecec1511e1e8a3eab5ce8"
   }
  }
 },
 "nbformat": 4,
 "nbformat_minor": 2
}
